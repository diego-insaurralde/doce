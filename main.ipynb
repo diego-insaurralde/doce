{
 "cells": [
  {
   "attachments": {},
   "cell_type": "markdown",
   "metadata": {},
   "source": [
    "# CUSTO "
   ]
  },
  {
   "cell_type": "code",
   "execution_count": 1,
   "metadata": {},
   "outputs": [],
   "source": [
    "embalagem_interna = 0\n",
    "embalagem_externa = 0\n",
    "ingredientes = 0 \n",
    "tx_ifood = 0.23 \n",
    "tx_ifood_adm = 0.032\n",
    "gas = 5/100\n",
    "plastico_filme = 0\n",
    "luva = 0\n",
    "toquinha = 0"
   ]
  },
  {
   "cell_type": "code",
   "execution_count": 2,
   "metadata": {},
   "outputs": [
    {
     "data": {
      "text/plain": [
       "1.46"
      ]
     },
     "execution_count": 2,
     "metadata": {},
     "output_type": "execute_result"
    }
   ],
   "source": [
    "292/200"
   ]
  },
  {
   "attachments": {},
   "cell_type": "markdown",
   "metadata": {},
   "source": [
    "## Embalagem"
   ]
  },
  {
   "cell_type": "code",
   "execution_count": null,
   "metadata": {},
   "outputs": [],
   "source": []
  },
  {
   "cell_type": "code",
   "execution_count": null,
   "metadata": {},
   "outputs": [],
   "source": []
  },
  {
   "cell_type": "markdown",
   "metadata": {},
   "source": []
  },
  {
   "attachments": {},
   "cell_type": "markdown",
   "metadata": {},
   "source": [
    "## COPO FERREIRO ROCHE"
   ]
  },
  {
   "attachments": {},
   "cell_type": "markdown",
   "metadata": {},
   "source": [
    "    4 OVOS \n",
    "    2 XICARA DE AÇÚCAR REFINADO \n",
    "    125g DE MANTEIGA SEM SAL \n",
    "    1/2 XICARA DE CACAU EM PÓ \n",
    "    1 PITADA DE SAL \n",
    "    1 XÍCARA DE FARINHA DE TRIGO \n",
    "    1/2 XÍCARA DE AÇÚCAR MASCAVO \n",
    "    200g DE CHOCOLATE MEIO AMARGO DERRETIDO\n",
    "\n",
    "    1 caixa de creme de leite \n",
    "    300 g de chocolate meio amargo \n",
    "    200 ml de chantilly (Muito gelado e marca boa, ex: Norcau)  \n",
    "\n",
    "    600 grama de leite condensado\n",
    "    300gr de creme de leite \n",
    "    25gr de chocolate em pó 50% cacau\n",
    "    220 gr de NUTELLA"
   ]
  },
  {
   "cell_type": "code",
   "execution_count": 25,
   "metadata": {},
   "outputs": [
    {
     "data": {
      "text/plain": [
       "1125"
      ]
     },
     "execution_count": 25,
     "metadata": {},
     "output_type": "execute_result"
    }
   ],
   "source": [
    "#massa brownie \n",
    "\n",
    "ovos_m = 200  # 50g * 4\n",
    "manteiga_m = 125\n",
    "cacau_m = 45\n",
    "farinha_m = 120 \n",
    "acucar_refinado = 360 \n",
    "acucar_mascavo = 75 \n",
    "choc_meio_amargo_m = 200\n",
    "\n",
    "brownie = ovos_m + manteiga_m + cacau_m + acucar_mascavo + farinha_m + acucar_refinado + choc_meio_amargo_m\n",
    "brownie"
   ]
  },
  {
   "cell_type": "code",
   "execution_count": 26,
   "metadata": {},
   "outputs": [
    {
     "data": {
      "text/plain": [
       "720.0"
      ]
     },
     "execution_count": 26,
     "metadata": {},
     "output_type": "execute_result"
    }
   ],
   "source": [
    "#massa  creme chocolate\n",
    "creme_leite = 200 # g\n",
    "choc_meio_amargo = 300 # g\n",
    "chantily = 1100/ 1000 * 200 # g\n",
    "\n",
    "creme_choc = creme_leite + choc_meio_amargo + chantily\n",
    "creme_choc\n"
   ]
  },
  {
   "cell_type": "code",
   "execution_count": 30,
   "metadata": {},
   "outputs": [
    {
     "data": {
      "text/plain": [
       "720.0"
      ]
     },
     "execution_count": 30,
     "metadata": {},
     "output_type": "execute_result"
    }
   ],
   "source": [
    "creme_choc"
   ]
  },
  {
   "cell_type": "code",
   "execution_count": 27,
   "metadata": {},
   "outputs": [
    {
     "data": {
      "text/plain": [
       "1145"
      ]
     },
     "execution_count": 27,
     "metadata": {},
     "output_type": "execute_result"
    }
   ],
   "source": [
    "#massa nutella\n",
    "\n",
    "leite_condensado = 600 #g\n",
    "creme_leite = 300 #g\n",
    "chocolate_cacau = 25 \n",
    "nutella = 220 \n",
    "\n",
    "creme_nutella = leite_condensado  + creme_leite + chocolate_cacau + nutella\n",
    "creme_nutella"
   ]
  },
  {
   "cell_type": "code",
   "execution_count": 28,
   "metadata": {},
   "outputs": [
    {
     "data": {
      "text/plain": [
       "44"
      ]
     },
     "execution_count": 28,
     "metadata": {},
     "output_type": "execute_result"
    }
   ],
   "source": [
    "brownie_top = 15 \n",
    "chantily_c = 10\n",
    "creme_chocolate_c = 22 * 2 \n",
    "brownie_c = 30 * 2 \n",
    "amendoin_c = 22 * 2 \n",
    "creme_nutella_c = 22 *2\n",
    "\n",
    "copo_m = brownie_top + chantily_c + creme_chocolate_c + brownie_c + amendoin_c + creme_nutella_c\n",
    "copo_m\n",
    "\n",
    "creme_chocolate_c"
   ]
  },
  {
   "cell_type": "code",
   "execution_count": 34,
   "metadata": {},
   "outputs": [
    {
     "name": "stdout",
     "output_type": "stream",
     "text": [
      "16.0 26 0.0\n"
     ]
    }
   ],
   "source": [
    "creme = creme_choc // creme_chocolate_c \n",
    "nut =  creme_nutella // creme_nutella_c \n",
    "brownie = brownie / (brownie_c + brownie_top)\n",
    "\n",
    "print(creme, nut, brownie)"
   ]
  },
  {
   "cell_type": "code",
   "execution_count": null,
   "metadata": {},
   "outputs": [],
   "source": []
  },
  {
   "cell_type": "code",
   "execution_count": null,
   "metadata": {},
   "outputs": [],
   "source": [
    "#valor unitário \n",
    "\n",
    "ovos_valor = 14.49/20 # R$/ovo\n",
    "acucar_valor = 3.5 / 1000 # R$/g\n",
    "manteiga_valor = 9.49 / 200 # R$/g\n",
    "cacau = 14/200 # R$/g\n",
    "farinha = 6/1000 # R$/g\n",
    "acucar_mascavo = 7/500 # R$/g\n",
    "choc_meio_amargo = 31.7 / 1000 #R$/g\n"
   ]
  }
 ],
 "metadata": {
  "kernelspec": {
   "display_name": "Python 3",
   "language": "python",
   "name": "python3"
  },
  "language_info": {
   "codemirror_mode": {
    "name": "ipython",
    "version": 3
   },
   "file_extension": ".py",
   "mimetype": "text/x-python",
   "name": "python",
   "nbconvert_exporter": "python",
   "pygments_lexer": "ipython3",
   "version": "3.10.6"
  },
  "orig_nbformat": 4,
  "vscode": {
   "interpreter": {
    "hash": "e7370f93d1d0cde622a1f8e1c04877d8463912d04d973331ad4851f04de6915a"
   }
  }
 },
 "nbformat": 4,
 "nbformat_minor": 2
}
